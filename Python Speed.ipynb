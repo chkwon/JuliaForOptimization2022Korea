{
 "cells": [
  {
   "cell_type": "markdown",
   "id": "4c3f38f3-5fb6-4a2e-b9e3-30e392ff20c5",
   "metadata": {},
   "source": [
    "# Inner Product: Python native"
   ]
  },
  {
   "cell_type": "code",
   "execution_count": 1,
   "id": "73a790f3-55b0-452c-b683-9a8273eb877d",
   "metadata": {},
   "outputs": [],
   "source": [
    "import numpy as np\n",
    "\n",
    "def dot_product(a, b):\n",
    "    s = 0.0\n",
    "    for i in range(len(a)):\n",
    "        s += a[i] * b[i]\n",
    "    return s\n"
   ]
  },
  {
   "cell_type": "code",
   "execution_count": 2,
   "id": "c809a2f9-9519-4081-bc35-50de063cbbba",
   "metadata": {},
   "outputs": [
    {
     "name": "stdout",
     "output_type": "stream",
     "text": [
      "21.8 ms ± 607 µs per loop (mean ± std. dev. of 7 runs, 10 loops each)\n"
     ]
    }
   ],
   "source": [
    "n = 10 ** 5\n",
    "x = np.random.rand(n)\n",
    "y = np.random.rand(n)\n",
    "\n",
    "%timeit dot_product(x, y)"
   ]
  },
  {
   "cell_type": "markdown",
   "id": "3a38dd50-a873-40fe-ab73-4d0849abb14b",
   "metadata": {},
   "source": [
    "# Inner Product: numba"
   ]
  },
  {
   "cell_type": "code",
   "execution_count": 3,
   "id": "2f84c8a9-c264-405c-b7c9-09ae9a0179ab",
   "metadata": {},
   "outputs": [],
   "source": [
    "import numba\n",
    "\n",
    "@numba.njit\n",
    "def dot_product_jit(a, b):\n",
    "    s = 0.0\n",
    "    for i in range(len(a)):\n",
    "        s += a[i] * b[i]\n",
    "    return s\n",
    "\n"
   ]
  },
  {
   "cell_type": "code",
   "execution_count": 4,
   "id": "0fb7e8e6-0445-4fcb-9357-a385b9950b23",
   "metadata": {},
   "outputs": [
    {
     "name": "stdout",
     "output_type": "stream",
     "text": [
      "116 µs ± 6.79 µs per loop (mean ± std. dev. of 7 runs, 1 loop each)\n"
     ]
    }
   ],
   "source": [
    "n = 10 ** 5\n",
    "x = np.random.rand(n)\n",
    "y = np.random.rand(n)\n",
    "\n",
    "%timeit dot_product_jit(x, y)"
   ]
  },
  {
   "cell_type": "markdown",
   "id": "ad2ae4bc-450c-4c5a-9fd8-047badb8f284",
   "metadata": {},
   "source": [
    "# Inner Product: numpy "
   ]
  },
  {
   "cell_type": "code",
   "execution_count": 5,
   "id": "1d4a39c3-5e5d-458c-9855-c9ad21bdca51",
   "metadata": {},
   "outputs": [
    {
     "name": "stdout",
     "output_type": "stream",
     "text": [
      "7.88 µs ± 1.09 µs per loop (mean ± std. dev. of 7 runs, 100000 loops each)\n"
     ]
    }
   ],
   "source": [
    "n = 10 ** 5\n",
    "x = np.random.rand(n)\n",
    "y = np.random.rand(n)\n",
    "\n",
    "%timeit np.dot(x, y)"
   ]
  },
  {
   "cell_type": "markdown",
   "id": "08126e6a-5b93-4909-a5ea-cbc682ed9376",
   "metadata": {},
   "source": [
    "# Matirx Multiplication: numpy"
   ]
  },
  {
   "cell_type": "code",
   "execution_count": 6,
   "id": "4d4fb5b2-691a-4954-8968-d32bc66a671b",
   "metadata": {},
   "outputs": [
    {
     "name": "stdout",
     "output_type": "stream",
     "text": [
      "2.02 ms ± 38.2 µs per loop (mean ± std. dev. of 7 runs, 1000 loops each)\n"
     ]
    }
   ],
   "source": [
    "n = 500\n",
    "A = np.random.rand(n, n)\n",
    "B = np.random.rand(n, n)\n",
    "\n",
    "%timeit A @ B;"
   ]
  },
  {
   "cell_type": "markdown",
   "id": "729f0a2f-e307-4c46-9b5c-7e8b2cdcb07b",
   "metadata": {},
   "source": [
    "# Monte Carlo Estimation of π"
   ]
  },
  {
   "cell_type": "code",
   "execution_count": 7,
   "id": "ab7abcf8-f768-4df3-94c3-1023dd24df27",
   "metadata": {},
   "outputs": [
    {
     "name": "stdout",
     "output_type": "stream",
     "text": [
      "1.49 s ± 46.6 ms per loop (mean ± std. dev. of 7 runs, 1 loop each)\n"
     ]
    }
   ],
   "source": [
    "import numpy as np\n",
    "import numba\n",
    "\n",
    "@numba.njit\n",
    "def estimate_pi(nMC):\n",
    "    radius = 1.\n",
    "    diameter = 2.*radius\n",
    "    n_circle = 0\n",
    "    for i in range(nMC):\n",
    "        x = (np.random.random()-0.5)*diameter\n",
    "        y = (np.random.random()-0.5)*diameter\n",
    "        r = np.sqrt(x**2 + y**2)\n",
    "        if r <= radius:\n",
    "           n_circle += 1\n",
    "    return 4.*n_circle/nMC\n",
    "\n",
    "n = 10**8\n",
    "\n",
    "%timeit estimate_pi(n)\n"
   ]
  },
  {
   "cell_type": "code",
   "execution_count": null,
   "id": "251c51d8-be31-4e96-8259-f13353eb24c2",
   "metadata": {},
   "outputs": [],
   "source": []
  }
 ],
 "metadata": {
  "kernelspec": {
   "display_name": "Python 3 (ipykernel)",
   "language": "python",
   "name": "python3"
  },
  "language_info": {
   "codemirror_mode": {
    "name": "ipython",
    "version": 3
   },
   "file_extension": ".py",
   "mimetype": "text/x-python",
   "name": "python",
   "nbconvert_exporter": "python",
   "pygments_lexer": "ipython3",
   "version": "3.9.12"
  }
 },
 "nbformat": 4,
 "nbformat_minor": 5
}
