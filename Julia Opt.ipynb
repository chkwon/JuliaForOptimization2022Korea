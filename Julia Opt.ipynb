{
 "cells": [
  {
   "cell_type": "code",
   "execution_count": 1,
   "id": "35316490-0719-4255-861c-c45d18116c65",
   "metadata": {},
   "outputs": [
    {
     "data": {
      "text/latex": [
       "$$ \\begin{aligned}\n",
       "\\max\\quad & 3 x + 4 y\\\\\n",
       "\\text{Subject to} \\quad & 3 x - y \\geq 0.0\\\\\n",
       " & x + 2 y \\leq 14.0\\\\\n",
       " & x - y \\leq 2.0\\\\\n",
       " & x \\geq 0.0\\\\\n",
       " & y \\geq 0.0\\\\\n",
       "\\end{aligned} $$"
      ]
     },
     "metadata": {},
     "output_type": "display_data"
    }
   ],
   "source": [
    "using JuMP, GLPK\n",
    "\n",
    "m = Model(GLPK.Optimizer)\n",
    "\n",
    "@variable(m, x >= 0)\n",
    "@variable(m, y >= 0)\n",
    "\n",
    "@objective(m, Max, 3x + 4y)\n",
    "\n",
    "@constraint(m, x + 2y ≤ 14)\n",
    "@constraint(m, 3x - y ≥ 0)\n",
    "@constraint(m, x - y ≤ 2)\n",
    "\n",
    "print(m)"
   ]
  },
  {
   "cell_type": "code",
   "execution_count": 2,
   "id": "566ab99f-b772-41b0-ad57-68cee11cf4ff",
   "metadata": {},
   "outputs": [
    {
     "name": "stdout",
     "output_type": "stream",
     "text": [
      "(value(x), value(y)) = (6.0, 4.000000000000002)\n",
      "objective_value(m) = 34.00000000000001\n"
     ]
    },
    {
     "data": {
      "text/plain": [
       "34.00000000000001"
      ]
     },
     "execution_count": 2,
     "metadata": {},
     "output_type": "execute_result"
    }
   ],
   "source": [
    "optimize!(m)\n",
    "@show value(x), value(y)\n",
    "@show objective_value(m)"
   ]
  },
  {
   "cell_type": "code",
   "execution_count": 3,
   "id": "252a0560-7eb3-4e8e-90b9-5e2b4b43f2a8",
   "metadata": {},
   "outputs": [
    {
     "data": {
      "text/latex": [
       "$$ \\begin{aligned}\n",
       "\\max\\quad & x_{제주} + x_{대전} + x_{대구}\\\\\n",
       "\\text{Subject to} \\quad & x_{제주} + x_{대구} \\leq 1.0\\\\\n",
       " & x_{제주} \\in \\{0, 1\\}\\\\\n",
       " & x_{대전} \\in \\{0, 1\\}\\\\\n",
       " & x_{대구} \\in \\{0, 1\\}\\\\\n",
       "\\end{aligned} $$"
      ]
     },
     "metadata": {},
     "output_type": "display_data"
    },
    {
     "name": "stdout",
     "output_type": "stream",
     "text": [
      "Academic license - for non-commercial use only - expires 2022-08-26\n"
     ]
    }
   ],
   "source": [
    "using JuMP, Gurobi\n",
    "\n",
    "m = Model(Gurobi.Optimizer)\n",
    "\n",
    "동네 = [\"제주\", \"대전\", \"대구\"] \n",
    "\n",
    "@variable(m, x[i ∈ 동네], Bin)\n",
    "\n",
    "@objective(m, Max, sum(x))\n",
    "@constraint(m, x[\"제주\"] + x[\"대구\"] ≤ 1)\n",
    "print(m)"
   ]
  },
  {
   "cell_type": "code",
   "execution_count": 4,
   "id": "4a4303c2-21d3-4cdf-a1f3-75226ee378b6",
   "metadata": {},
   "outputs": [
    {
     "data": {
      "text/latex": [
       "$$ \\begin{aligned}\n",
       "\\max\\quad & 🏫_{제주} + 🏫_{대전} + 🏫_{대구}\\\\\n",
       "\\text{Subject to} \\quad & 🏫_{제주} + 🏫_{대구} \\leq 1.0\\\\\n",
       " & 🏫_{제주} \\in \\{0, 1\\}\\\\\n",
       " & 🏫_{대전} \\in \\{0, 1\\}\\\\\n",
       " & 🏫_{대구} \\in \\{0, 1\\}\\\\\n",
       "\\end{aligned} $$"
      ]
     },
     "metadata": {},
     "output_type": "display_data"
    },
    {
     "name": "stdout",
     "output_type": "stream",
     "text": [
      "Academic license - for non-commercial use only - expires 2022-08-26\n",
      "Gurobi Optimizer version 9.1.2 build v9.1.2rc0 (mac64)\n",
      "Thread count: 4 physical cores, 8 logical processors, using up to 8 threads\n",
      "Optimize a model with 1 rows, 3 columns and 2 nonzeros\n",
      "Model fingerprint: 0xfa20a9bf\n",
      "Variable types: 0 continuous, 3 integer (3 binary)\n",
      "Coefficient statistics:\n",
      "  Matrix range     [1e+00, 1e+00]\n",
      "  Objective range  [1e+00, 1e+00]\n",
      "  Bounds range     [0e+00, 0e+00]\n",
      "  RHS range        [1e+00, 1e+00]\n",
      "Found heuristic solution: objective 2.0000000\n",
      "Presolve removed 1 rows and 3 columns\n",
      "Presolve time: 0.02s\n",
      "Presolve: All rows and columns removed\n",
      "\n",
      "Explored 0 nodes (0 simplex iterations) in 0.02 seconds\n",
      "Thread count was 1 (of 8 available processors)\n",
      "\n",
      "Solution count 1: 2 \n",
      "\n",
      "Optimal solution found (tolerance 1.00e-04)\n",
      "Best objective 2.000000000000e+00, best bound 2.000000000000e+00, gap 0.0000%\n",
      "\n",
      "User-callback calls 38, time in user-callback 0.00 sec\n"
     ]
    }
   ],
   "source": [
    "using JuMP, Gurobi\n",
    "\n",
    "m = Model(Gurobi.Optimizer)\n",
    "\n",
    "동네 = [\"제주\", \"대전\", \"대구\"] \n",
    "\n",
    "@variable(m, 🏫[i ∈ 동네], Bin)\n",
    "\n",
    "@objective(m, Max, sum(🏫))\n",
    "@constraint(m, 🏫[\"제주\"] + 🏫[\"대구\"] ≤ 1)\n",
    "print(m)\n",
    "optimize!(m)"
   ]
  },
  {
   "cell_type": "code",
   "execution_count": 5,
   "id": "e8479a5d-a838-4be4-9939-0caff3ad6c46",
   "metadata": {},
   "outputs": [
    {
     "name": "stdout",
     "output_type": "stream",
     "text": [
      "value.(🏫) = 1-dimensional DenseAxisArray{Float64,1,...} with index sets:\n",
      "    Dimension 1, [\"제주\", \"대전\", \"대구\"]\n",
      "And data, a 3-element Vector{Float64}:\n",
      " 1.0\n",
      " 1.0\n",
      " 0.0\n"
     ]
    },
    {
     "data": {
      "text/plain": [
       "1-dimensional DenseAxisArray{Float64,1,...} with index sets:\n",
       "    Dimension 1, [\"제주\", \"대전\", \"대구\"]\n",
       "And data, a 3-element Vector{Float64}:\n",
       " 1.0\n",
       " 1.0\n",
       " 0.0"
      ]
     },
     "execution_count": 5,
     "metadata": {},
     "output_type": "execute_result"
    }
   ],
   "source": [
    "@show value.(🏫)"
   ]
  },
  {
   "cell_type": "code",
   "execution_count": null,
   "id": "57e7a1be-e7b8-4a38-a51c-cd63fe625dbe",
   "metadata": {},
   "outputs": [],
   "source": []
  }
 ],
 "metadata": {
  "kernelspec": {
   "display_name": "Julia 1.7.2",
   "language": "julia",
   "name": "julia-1.7"
  },
  "language_info": {
   "file_extension": ".jl",
   "mimetype": "application/julia",
   "name": "julia",
   "version": "1.7.2"
  }
 },
 "nbformat": 4,
 "nbformat_minor": 5
}
