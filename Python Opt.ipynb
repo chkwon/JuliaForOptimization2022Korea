{
 "cells": [
  {
   "cell_type": "code",
   "execution_count": null,
   "id": "97b06827-4610-4d2c-b196-3f2222b5a9a4",
   "metadata": {},
   "outputs": [
    {
     "name": "stdout",
     "output_type": "stream",
     "text": [
      "test_lp:\n",
      "MINIMIZE\n",
      "3*α + 4*β + 0\n",
      "SUBJECT TO\n",
      "_C1: α + 2 β <= 14\n",
      "\n",
      "_C2: 3 α - β >= 0\n",
      "\n",
      "_C3: α - β <= 2\n",
      "\n",
      "VARIABLES\n",
      "α Continuous\n",
      "β Continuous\n",
      "\n"
     ]
    }
   ],
   "source": [
    "import pulp \n",
    "\n",
    "model = pulp.LpProblem('test_lp', pulp.LpMinimize) \n",
    "\n",
    "x = pulp.LpVariable('x', lowBound = 0) \n",
    "y = pulp.LpVariable('y', lowBound = 0) \n",
    "\n",
    "# objective function \n",
    "model += 3 * x + 4 * y\n",
    "\n",
    "\n",
    "# constraints \n",
    "model += x + 2 * y <= 14.0\n",
    "model += 3 * x - y >= 0.0\n",
    "model += x - y <= 2.0\n",
    "\n",
    "print(model)"
   ]
  },
  {
   "cell_type": "code",
   "execution_count": null,
   "id": "cfc53959-c25b-4cd4-b2d5-b342418d2c1d",
   "metadata": {},
   "outputs": [],
   "source": []
  }
 ],
 "metadata": {
  "kernelspec": {
   "display_name": "Python 3 (ipykernel)",
   "language": "python",
   "name": "python3"
  },
  "language_info": {
   "codemirror_mode": {
    "name": "ipython",
    "version": 3
   },
   "file_extension": ".py",
   "mimetype": "text/x-python",
   "name": "python",
   "nbconvert_exporter": "python",
   "pygments_lexer": "ipython3",
   "version": "3.9.12"
  }
 },
 "nbformat": 4,
 "nbformat_minor": 5
}
