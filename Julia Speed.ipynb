{
 "cells": [
  {
   "cell_type": "code",
   "execution_count": 1,
   "id": "8cda5ce7-95b0-4905-a2ae-9c5be3002a27",
   "metadata": {},
   "outputs": [],
   "source": [
    "using BenchmarkTools"
   ]
  },
  {
   "cell_type": "markdown",
   "id": "7a87d5e1-e45b-4fbc-85c0-2258999dde23",
   "metadata": {
    "tags": []
   },
   "source": [
    "# Inner Product: Julia native"
   ]
  },
  {
   "cell_type": "code",
   "execution_count": 2,
   "id": "d29bd41b-e815-40f7-88cd-e8bc737832f7",
   "metadata": {},
   "outputs": [
    {
     "data": {
      "text/plain": [
       "dot_product (generic function with 1 method)"
      ]
     },
     "execution_count": 2,
     "metadata": {},
     "output_type": "execute_result"
    }
   ],
   "source": [
    "function dot_product(a, b)\n",
    "    s = 0.0\n",
    "    for i in 1:length(a)\n",
    "        s += a[i] * b[i]\n",
    "    end\n",
    "    return s\n",
    "end"
   ]
  },
  {
   "cell_type": "code",
   "execution_count": 3,
   "id": "4c81c847-d0cf-47cb-a127-eb673401f334",
   "metadata": {},
   "outputs": [
    {
     "name": "stdout",
     "output_type": "stream",
     "text": [
      "  111.415 μs (1 allocation: 16 bytes)\n"
     ]
    }
   ],
   "source": [
    "n = 10^5\n",
    "x = rand(n)\n",
    "y = rand(n)\n",
    "\n",
    "@btime dot_product(x, y);"
   ]
  },
  {
   "cell_type": "markdown",
   "id": "f38b08a2-aba7-43de-9d80-f1aba9aa04cd",
   "metadata": {},
   "source": [
    "# Inner Product: Julia standard library"
   ]
  },
  {
   "cell_type": "code",
   "execution_count": 4,
   "id": "8c1f7c8a-5332-4517-a0fb-027d63e3a34d",
   "metadata": {},
   "outputs": [
    {
     "name": "stdout",
     "output_type": "stream",
     "text": [
      "  4.425 μs (1 allocation: 16 bytes)\n"
     ]
    }
   ],
   "source": [
    "using LinearAlgebra\n",
    "\n",
    "n = 10^5\n",
    "x = rand(n)\n",
    "y = rand(n)\n",
    "\n",
    "@btime dot(x, y);"
   ]
  },
  {
   "cell_type": "markdown",
   "id": "caed1162-b41c-4b52-9492-8ed4f240fe86",
   "metadata": {},
   "source": [
    "# Matrix Multiplication"
   ]
  },
  {
   "cell_type": "code",
   "execution_count": 5,
   "id": "101240c9-9f61-41b4-9098-805a9f0ad53d",
   "metadata": {},
   "outputs": [
    {
     "name": "stdout",
     "output_type": "stream",
     "text": [
      "  1.610 ms (2 allocations: 1.91 MiB)\n"
     ]
    }
   ],
   "source": [
    "n = 500\n",
    "A = rand(n, n)\n",
    "B = rand(n, n)\n",
    "\n",
    "@btime A * B; "
   ]
  },
  {
   "cell_type": "markdown",
   "id": "3521d33e-4cfc-4d68-98b4-48cccde74278",
   "metadata": {},
   "source": [
    "# Monte Carlo Estimation of π"
   ]
  },
  {
   "cell_type": "code",
   "execution_count": 6,
   "id": "8bc7291b-d225-4f37-b520-81c63b7e9623",
   "metadata": {},
   "outputs": [
    {
     "name": "stdout",
     "output_type": "stream",
     "text": [
      "  334.260 ms (1 allocation: 16 bytes)\n"
     ]
    },
    {
     "data": {
      "text/plain": [
       "3.1414276"
      ]
     },
     "execution_count": 6,
     "metadata": {},
     "output_type": "execute_result"
    }
   ],
   "source": [
    "function estimate_pi(nMC)\n",
    "    radius = 1.\n",
    "    diameter = 2. * radius\n",
    "    n_circle = 0\n",
    "    for i in 1:nMC\n",
    "        x = (rand() - 0.5) * diameter\n",
    "        y = (rand() - 0.5) * diameter\n",
    "        r = sqrt(x^2 + y^2)\n",
    "        if r <= radius\n",
    "           n_circle += 1\n",
    "        end\n",
    "    end\n",
    "    return (n_circle/nMC) * 4.\n",
    "end\n",
    "\n",
    "n = 10^8\n",
    "\n",
    "@btime estimate_pi(n)"
   ]
  },
  {
   "cell_type": "code",
   "execution_count": null,
   "id": "906c4443-67e8-48ea-bf18-1bdf5fa53719",
   "metadata": {},
   "outputs": [],
   "source": []
  }
 ],
 "metadata": {
  "kernelspec": {
   "display_name": "Julia 1.7.2",
   "language": "julia",
   "name": "julia-1.7"
  },
  "language_info": {
   "file_extension": ".jl",
   "mimetype": "application/julia",
   "name": "julia",
   "version": "1.7.2"
  }
 },
 "nbformat": 4,
 "nbformat_minor": 5
}
